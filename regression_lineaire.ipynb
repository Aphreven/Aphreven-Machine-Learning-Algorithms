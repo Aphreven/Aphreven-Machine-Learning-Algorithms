{
 "cells": [
  {
   "attachments": {},
   "cell_type": "markdown",
   "metadata": {},
   "source": [
    "# Regression Linéaire"
   ]
  },
  {
   "attachments": {},
   "cell_type": "markdown",
   "metadata": {},
   "source": [
    "#### *Fonction linéaire des variables explicatives pour une instance/observation*"
   ]
  },
  {
   "attachments": {},
   "cell_type": "markdown",
   "metadata": {},
   "source": [
    "$y_i = \\beta_{0} + \\sum \\limits _{j=1} ^{p} x_{i,j}\\beta_{j} + \\epsilon_{i} $"
   ]
  },
  {
   "attachments": {},
   "cell_type": "markdown",
   "metadata": {},
   "source": [
    "- $p$ :  nombre de variables/colonnes \n",
    "- $x_{i,j}$ : $j^{ème}$ variable de l'instance $x_i$\n",
    "- $\\beta_j$ : $j^{ème}$ paramètre du model\n",
    "- $\\epsilon_{i}$ terme d'erreur aléatoire"
   ]
  },
  {
   "attachments": {},
   "cell_type": "markdown",
   "metadata": {},
   "source": [
    "#### *Notation vectorielle*"
   ]
  },
  {
   "attachments": {},
   "cell_type": "markdown",
   "metadata": {},
   "source": [
    "$y_i = h_{\\boldsymbol{\\beta}}(\\textbf{x}_i) + \\epsilon_{i} = \\boldsymbol{\\beta} . \\textbf{x}_i + \\epsilon_{i}$"
   ]
  },
  {
   "attachments": {},
   "cell_type": "markdown",
   "metadata": {},
   "source": [
    "- $\\boldsymbol{\\beta}$ : vecteur des paramètres/coefficients $\\boldsymbol{\\beta} = (\\beta_0 , ... , \\beta_p)$\n",
    "- $\\textbf{x}_i$ : vecteur des variables de l'instance $\\textbf{x}_i = (1, x_{i,1} , ..., x_{i,p})$ \n",
    "- $\\boldsymbol{\\beta} . \\textbf{x} $ : produit scalaire des 2 vecteurs\n",
    "- $h_{\\boldsymbol{\\beta}}$ :  fonction hypothèse "
   ]
  },
  {
   "attachments": {},
   "cell_type": "markdown",
   "metadata": {},
   "source": [
    "#### *Notation matricielle*"
   ]
  },
  {
   "attachments": {},
   "cell_type": "markdown",
   "metadata": {},
   "source": [
    "$\\textbf{y}_{n×1} = \\boldsymbol{\\beta}_{(p+1)×1} . \\textbf{X}_{n×(p+1)} + \\boldsymbol{\\epsilon}_{n×1}$"
   ]
  },
  {
   "attachments": {},
   "cell_type": "markdown",
   "metadata": {},
   "source": [
    "Avec : $ \\textbf{y} = \\begin{bmatrix} y_0 \\\\[0.3em] y_1 \\\\[0.3em] \\vdots \\\\[0.3em] y_p \\end{bmatrix}, \n",
    "\\textbf{X} = \\begin{bmatrix} 1 & x_{11} & \\cdots & x_{1p} \\\\[0.3em] 1 & x_{21} & \\cdots & x_{2p} \\\\[0.3em] \\vdots & \\vdots & \\ddots & \\vdots \\\\[0.3em] 1 & x_{n2} & \\cdots & x_{np} \\end{bmatrix}, \n",
    "\\boldsymbol{\\beta} = \\begin{bmatrix} \\beta_0 \\\\[0.3em] \\beta_1 \\\\[0.3em] \\vdots \\\\[0.3em] \\beta_p \\end{bmatrix}, \n",
    "\\boldsymbol{\\epsilon} = \\begin{bmatrix} \\epsilon_0 \\\\[0.3em] \\epsilon_1 \\\\[0.3em] \\vdots \\\\[0.3em] \\epsilon_p \\end{bmatrix}, \n",
    "n =$ le nombre d'observations/instances/lignes"
   ]
  },
  {
   "attachments": {},
   "cell_type": "markdown",
   "metadata": {},
   "source": [
    "##### *Fonction de coût*"
   ]
  },
  {
   "attachments": {},
   "cell_type": "markdown",
   "metadata": {},
   "source": [
    "Pour une observation on a : $\\hat{y_i} = h_{\\boldsymbol{\\beta}}(\\textbf{x}_i)$ avec $\\hat{y_i}$ la valeur prédite \\\n",
    "De même on a $\\hat{\\textbf{y}} = h_{\\boldsymbol{\\beta}}(\\textbf{X})$ la résultante matricielle\n"
   ]
  },
  {
   "attachments": {},
   "cell_type": "markdown",
   "metadata": {},
   "source": [
    "Nous pouvons mesurer la précision de $\\hat{\\textbf{y}}$ en utilisant une fonction de coût.\\\n",
    "Dans les modèles de régression, une mesure couramment utilisée est l'erreur quadratique moyenne (MSE en anglais : Mean Squared Error), donnée par la formule suivante : \\\n",
    "$MSE(\\textbf{X}, h) =  \\cfrac{1}{n}\\sum \\limits _{i=1} ^{n} (y_i - \\hat{y_i})^2 =  \\cfrac{1}{n}\\sum \\limits _{i=1} ^{n} (y_i - \\boldsymbol{\\beta}^T . \\textbf{x}_i)^2$"
   ]
  },
  {
   "attachments": {},
   "cell_type": "markdown",
   "metadata": {},
   "source": [
    "## *Estimation des coefficients de regression $\\boldsymbol{\\beta}$  via la méthode des moindre carrés*"
   ]
  },
  {
   "attachments": {},
   "cell_type": "markdown",
   "metadata": {},
   "source": [
    "Nous voulons trouver $\\boldsymbol{\\hat{\\beta}}$ qui minimise la fonction de coût MSE. \n",
    "\n"
   ]
  },
  {
   "attachments": {},
   "cell_type": "markdown",
   "metadata": {},
   "source": [
    "\n",
    "Si $\\textbf{X}^T\\textbf{X}$ est inversible, on a le vecteur des paramètres approximés qui vaut : $\\boldsymbol{\\hat{\\beta}}= (\\textbf{X}^T\\textbf{X})^{-1}\\textbf{X}^T\\textbf{y}$"
   ]
  },
  {
   "attachments": {},
   "cell_type": "markdown",
   "metadata": {},
   "source": [
    "Certaines situations comme $n<p$ ou des variables fortement corrélés entre elles font qu'une telle matrice n'est pas inversible.\\\n",
    " Dans ce cas, il est possible de calculer $\\boldsymbol{\\hat{\\beta}}= \\textbf{X}^+\\textbf{y}$ avec $\\textbf{X}^+$ la matrice pseudo inverse de Moore-Penrose.\\\n",
    " Cette approche est aussi plus rapide à calculer et est en pratique largement utilisé."
   ]
  },
  {
   "attachments": {},
   "cell_type": "markdown",
   "metadata": {},
   "source": [
    "#### *Complexité*"
   ]
  },
  {
   "attachments": {},
   "cell_type": "markdown",
   "metadata": {},
   "source": [
    "Avec $n$ le nombre d'observations et $p$ le nombre de variables, on obtient les complexités suivantes : \n",
    "- complexité temporelle d'apprentissage : $O(n*p^2 + p^3)$ Celle-ci se résumant a inverser la matrice $\\textbf{X}^T\\textbf{X}$ \n",
    "- complexité spatiale : $O(p)$\n",
    "- complexité temporelle de prédiction d'un set de test : $O(p)$\n"
   ]
  },
  {
   "attachments": {},
   "cell_type": "markdown",
   "metadata": {},
   "source": [
    "### Implémentation"
   ]
  },
  {
   "cell_type": "code",
   "execution_count": 1,
   "metadata": {},
   "outputs": [],
   "source": [
    "import numpy as np\n",
    "import matplotlib as mpl\n",
    "import matplotlib.pyplot as plt\n",
    "from ipywidgets import interact, widgets, FloatSlider, IntSlider\n",
    "from sklearn.linear_model import LinearRegression"
   ]
  },
  {
   "attachments": {},
   "cell_type": "markdown",
   "metadata": {},
   "source": [
    "#### Génération d'un jeu de données linéaire à 2 dimensions"
   ]
  },
  {
   "cell_type": "code",
   "execution_count": 2,
   "metadata": {},
   "outputs": [],
   "source": [
    "np.random.seed(20)\n",
    "X = 2 * np.random.rand(100, 1)\n",
    "y = 6.4 - 5.2 * X + np.random.randn(100, 1)"
   ]
  },
  {
   "attachments": {},
   "cell_type": "markdown",
   "metadata": {},
   "source": [
    "Cette fonction a pour paramètres $\\beta_0 = 6.4$ et $\\beta_1 = -5.2$"
   ]
  },
  {
   "cell_type": "code",
   "execution_count": 3,
   "metadata": {},
   "outputs": [
    {
     "data": {
      "image/png": "[encoded data removed]",
      "text/plain": [
       "<Figure size 640x480 with 1 Axes>"
      ]
     },
     "metadata": {},
     "output_type": "display_data"
    }
   ],
   "source": [
    "plt.plot(X, y, \"b.\")\n",
    "plt.xlabel(\"$x_1$\", fontsize=18)\n",
    "plt.ylabel(\"$y$\", rotation=0, fontsize=18)\n",
    "plt.show()"
   ]
  },
  {
   "attachments": {},
   "cell_type": "markdown",
   "metadata": {},
   "source": [
    "#### Calcul des coefficients ${\\beta}$"
   ]
  },
  {
   "cell_type": "code",
   "execution_count": 4,
   "metadata": {},
   "outputs": [
    {
     "data": {
      "text/plain": [
       "array([[ 6.2115615 ],\n",
       "       [-4.96107648]])"
      ]
     },
     "execution_count": 4,
     "metadata": {},
     "output_type": "execute_result"
    }
   ],
   "source": [
    "X_b = np.c_[np.ones((100, 1)), X] # On rajoute x0 = 1 pour chaque observations\n",
    "\n",
    "# Via inversion de matrice classique\n",
    "beta_best = np.linalg.inv(X_b.T.dot(X_b)).dot(X_b.T).dot(y) \n",
    "beta_best"
   ]
  },
  {
   "cell_type": "code",
   "execution_count": 5,
   "metadata": {},
   "outputs": [
    {
     "data": {
      "text/plain": [
       "array([[ 6.2115615 ],\n",
       "       [-4.96107648]])"
      ]
     },
     "execution_count": 5,
     "metadata": {},
     "output_type": "execute_result"
    }
   ],
   "source": [
    "# Via matrice pseudo-inverse\n",
    "beta_best_svd, residuals, rank, s = np.linalg.lstsq(X_b, y, rcond=1e-6) \n",
    "beta_best_svd"
   ]
  },
  {
   "cell_type": "code",
   "execution_count": 6,
   "metadata": {},
   "outputs": [
    {
     "data": {
      "text/plain": [
       "(array([6.2115615]), array([[-4.96107648]]))"
      ]
     },
     "execution_count": 6,
     "metadata": {},
     "output_type": "execute_result"
    }
   ],
   "source": [
    "# Via sklearn\n",
    "from sklearn.linear_model import LinearRegression\n",
    "\n",
    "lin_reg = LinearRegression()\n",
    "lin_reg.fit(X, y)\n",
    "lin_reg.intercept_, lin_reg.coef_"
   ]
  },
  {
   "attachments": {},
   "cell_type": "markdown",
   "metadata": {},
   "source": [
    "Malgré le bruit gaussien rajouté, on retrouve des valeurs de coefficients similaires a ceux attendus. \\\n",
    "Enfin pour effectuer des predictions de nouvelles observations il suffit de créer un vecteur et de faire le produit avec la matrice $X$"
   ]
  },
  {
   "cell_type": "code",
   "execution_count": 29,
   "metadata": {},
   "outputs": [
    {
     "data": {
      "text/plain": [
       "array([[6.2115615 ],\n",
       "       [1.25048502]])"
      ]
     },
     "execution_count": 29,
     "metadata": {},
     "output_type": "execute_result"
    }
   ],
   "source": [
    "# Prédiction du point 0 et 1\n",
    "X_new = np.array([[0], [1]]) \n",
    "X_new_b = np.c_[np.ones((2, 1)), X_new]  # On rajoute x0 = 1 pour chaque observations\n",
    "y_predict = X_new_b.dot(beta_best)\n",
    "y_predict"
   ]
  },
  {
   "attachments": {},
   "cell_type": "markdown",
   "metadata": {},
   "source": [
    "#### Animation interactive "
   ]
  },
  {
   "attachments": {},
   "cell_type": "markdown",
   "metadata": {},
   "source": [
    "Equation de la forme $y = ax+ b $ avec comme paramètres interactifs : $a$, $b$,  et le bruit"
   ]
  },
  {
   "cell_type": "code",
   "execution_count": 7,
   "metadata": {},
   "outputs": [
    {
     "data": {
      "application/vnd.jupyter.widget-view+json": {
       "model_id": "78453914e5f444a58a9dfb94dee88680",
       "version_major": 2,
       "version_minor": 0
      },
      "text/plain": [
       "interactive(children=(FloatSlider(value=0.0, description='a', max=2.0, min=-2.0), FloatSlider(value=0.0, descr…"
      ]
     },
     "metadata": {},
     "output_type": "display_data"
    },
    {
     "data": {
      "text/plain": [
       "<function __main__.update_plot(a, b, noise_scale)>"
      ]
     },
     "execution_count": 7,
     "metadata": {},
     "output_type": "execute_result"
    }
   ],
   "source": [
    "def generate_data(a, b, noise_scale, num_points):\n",
    "    x = np.linspace(-10, 10, num_points)\n",
    "    y = a * x + b + np.random.normal(0, noise_scale, num_points)\n",
    "    return x, y\n",
    "\n",
    "def update_plot(a, b, noise_scale):\n",
    "    x, y = generate_data(a, b, noise_scale, num_points=100)\n",
    "    \n",
    "    # Fit the linear regression model\n",
    "    model = LinearRegression().fit(x.reshape(-1, 1), y)\n",
    "    a_hat, b_hat = model.coef_[0], model.intercept_\n",
    "    \n",
    "    plt.scatter(x, y, s=10, color='blue', alpha=0.6)\n",
    "    plt.xlim(-10, 10)\n",
    "    plt.ylim(-10, 10)\n",
    "    \n",
    "    # Plot the estimated line\n",
    "    x_line = np.linspace(-10, 10, 2)\n",
    "    y_line = a_hat * x_line + b_hat\n",
    "    plt.plot(x_line, y_line, color='red', linestyle='--')\n",
    "\n",
    "    # Show the estimated parameters on the plot\n",
    "    plt.text(0, 9, f'a estimé: {a_hat:.2f}', fontsize=10, color='green')\n",
    "    plt.text(0, 8, f'b estimé: {b_hat:.2f}', fontsize=10, color='green')\n",
    "    plt.grid()\n",
    "    plt.show()\n",
    "\n",
    "interact(update_plot, a=(-2.0, 2.0, 0.1), b=(-2.0, 2.0, 0.1), noise_scale=(0.1, 4.0, 0.2))"
   ]
  },
  {
   "attachments": {},
   "cell_type": "markdown",
   "metadata": {},
   "source": [
    "## *Estimation des coefficients de regression $\\boldsymbol{\\beta}$  via la méthode de descente de gradient*"
   ]
  },
  {
   "attachments": {},
   "cell_type": "markdown",
   "metadata": {},
   "source": [
    "Lorsque le dataset comporte un très grand nombre de variables $p$, trouver les coefficients $\\beta$ devient couteux en temps de calcul, généralement de $O(p^2)$ à $O(p^3)$.\\\n",
    "Il peut etre intéressant d'utiliser des algorithmes d'optimisations pour palier a ce problème. \\\n",
    "\\\n",
    "La descente de gradient utilise une approche itérative pour trouver les coefficients optimaux du modèle.\\\n",
    "L'algorithme commence avec une estimation initiale des coefficients, qui sont mis à jour à chaque itération en utilisant la dérivée par rapport à chaque coefficient de la fonction de coût. \\\n",
    "Le processus est répété jusqu'à ce que la fonction de coût atteigne un minimum local.\n",
    "\n",
    "\n",
    "\n"
   ]
  },
  {
   "attachments": {},
   "cell_type": "markdown",
   "metadata": {},
   "source": [
    "#### *Descente de gradient classique (Batch Gradient)*"
   ]
  },
  {
   "attachments": {},
   "cell_type": "markdown",
   "metadata": {},
   "source": [
    "On a l'équation de la dérivée partielle de MSE par rapport à $∂\\beta_j$ suivante : $\\cfrac{∂}{∂\\beta_j} MSE(\\boldsymbol{\\beta}) = \\cfrac{2}{n} \\sum \\limits _{i=1} ^{n} (\\boldsymbol{\\beta}^T \\textbf{x}_i-y_i)x_{i,j}$  "
   ]
  },
  {
   "attachments": {},
   "cell_type": "markdown",
   "metadata": {},
   "source": [
    "Et le gradient suivant :  $∇MSE(\\boldsymbol{\\beta}) = \\begin{bmatrix} \\cfrac{∂}{∂\\beta_0} MSE(\\boldsymbol{\\beta}) \\\\[0.3em] \\cfrac{∂}{∂\\beta_1} MSE(\\boldsymbol{\\beta}) \\\\[0.3em] \\vdots \\\\[0.3em] \\cfrac{∂}{∂\\beta_p} MSE(\\boldsymbol{\\beta}) \\end{bmatrix} = \\cfrac{2}{n}\\textbf{X}^T(\\textbf{X}\\boldsymbol{\\beta} - \\textbf{y})$ "
   ]
  },
  {
   "attachments": {},
   "cell_type": "markdown",
   "metadata": {},
   "source": [
    "Au final on a le vecteur des paramètres qui vaudra pour chaque $k$ itérations : $\\boldsymbol{\\beta}^{k+1} = \\boldsymbol{\\beta^k} - \\eta∇MSE(\\boldsymbol{\\beta})   $\\\n",
    "avec $\\eta$ le taux d'apprentissage"
   ]
  },
  {
   "attachments": {},
   "cell_type": "markdown",
   "metadata": {},
   "source": [
    "#### *Descente de gradient Stochastique (SGD)*"
   ]
  },
  {
   "attachments": {},
   "cell_type": "markdown",
   "metadata": {},
   "source": [
    "Lorsque la matrice $X$ d'apprentissage comporte un nombre important d'observations, une technique permettant de réduire le temps de calcul au détriment\\\n",
    "de la qualité de convergence est la descente de gradient stochastique. On remplace dans notre apprentissage la matrice $X$ par une instance aléatoire $\\textbf{x}_r$ pour chaque itération\\\n",
    "Ce qui donne $MSE = (y_r - \\boldsymbol{\\beta}^T . \\textbf{x}_r)^2 = (y_r - \\hat{y_r})^2 $\\\n",
    "Les étapes suivantes restent les même que la descente de gradient classique avec le calcul de $∇MSE(\\boldsymbol{\\beta})$ puis de $\\boldsymbol{\\beta}^{k+1}$\n"
   ]
  },
  {
   "attachments": {},
   "cell_type": "markdown",
   "metadata": {},
   "source": [
    "#### *Mini batch gradient*"
   ]
  },
  {
   "attachments": {},
   "cell_type": "markdown",
   "metadata": {},
   "source": [
    "Dans la même optique, le mini batch prends cette fois-ci un sous ensemble aléatoire $A\\subset{X}$ pour chaque itérations.\\\n",
    "Les étapes suivantes restent les même que la descente de gradient classique avec le calcul de $∇MSE(\\boldsymbol{\\beta})$ puis de $\\boldsymbol{\\beta}^{k+1}$ "
   ]
  },
  {
   "cell_type": "markdown",
   "metadata": {},
   "source": [
    "#### *Complexité*"
   ]
  },
  {
   "attachments": {},
   "cell_type": "markdown",
   "metadata": {},
   "source": [
    "Avec $n$ le nombre d'observations et $p$ le nombre de variables, k le nombre d'itération,  on obtient les complexités suivantes :\n",
    " \n",
    " Batch Gradient\n",
    "- complexité temporelle d'apprentissage : $ O(knp) ∼O(kn^2)$ \n",
    "- complexité spatiale : $O(p)$\n",
    "- complexité temporelle de prédiction d'un set de test : $O(p)$\n"
   ]
  },
  {
   "attachments": {},
   "cell_type": "markdown",
   "metadata": {},
   "source": [
    " SGD\n",
    "- complexité temporelle d'apprentissage : $O(kp)$ \n",
    "- complexité spatiale : $O(p)$\n",
    "- complexité temporelle de prédiction d'un set de test : $O(p)$"
   ]
  },
  {
   "attachments": {},
   "cell_type": "markdown",
   "metadata": {},
   "source": [
    " Mini batch Gradient\n",
    "- complexité temporelle d'apprentissage : $O(kn_1p)$ avec $n_1$ la taille du mini batch\n",
    "- complexité spatiale : $O(p)$\n",
    "- complexité temporelle de prédiction d'un set de test : $O(p)$"
   ]
  },
  {
   "attachments": {},
   "cell_type": "markdown",
   "metadata": {},
   "source": [
    "#### *Notes*"
   ]
  },
  {
   "attachments": {},
   "cell_type": "markdown",
   "metadata": {},
   "source": [
    "La descente de gradient est sensible à la différence d'échelle entre les variables. Il faut s'assurer de qu'elles soient normalisées/standardiseés (ou autre méthodes), \\\n",
    "sous peine de prendre plus de temps à converger.\n",
    "\n"
   ]
  },
  {
   "attachments": {},
   "cell_type": "markdown",
   "metadata": {},
   "source": [
    "Le taux d'apprentissage $\\eta$ est un hyperparamètre du model. Son choix optimal peut varier en fonction de $X$ et il peut etre interessant de tester différentes combinaisons dans le cas du Batch Gradient.\\\n",
    "Cela peut se faire via l'utilisation d'un **grid_search** en utilisant un grand nombre d'itérations et en stoppant lorsque $∇MSE(\\boldsymbol{\\beta}) <\\epsilon$ \\\n",
    "Pour le SGD et le mini batch, à cause du phénomène aléatoire de ces derniers, il est préconisé de commencer avec $\\eta$ élevé puis de le diminuer au fur et à mesure pour améliorer la convergence."
   ]
  },
  {
   "cell_type": "markdown",
   "metadata": {},
   "source": [
    "### Implémentation"
   ]
  },
  {
   "cell_type": "markdown",
   "metadata": {},
   "source": [
    "#### Descente de gradient classique"
   ]
  },
  {
   "cell_type": "markdown",
   "metadata": {},
   "source": [
    "On reprends l'exemple précendent $\\beta_0 = 6.4$ et $\\beta_1 = -5.2$"
   ]
  },
  {
   "cell_type": "code",
   "execution_count": 8,
   "metadata": {},
   "outputs": [
    {
     "data": {
      "text/plain": [
       "array([[ 6.2115615 ],\n",
       "       [-4.96107648]])"
      ]
     },
     "execution_count": 8,
     "metadata": {},
     "output_type": "execute_result"
    }
   ],
   "source": [
    "def batch_gradient(X, y): \n",
    "    np.random.seed(20)\n",
    "\n",
    "    eta = 0.1  # learning rate\n",
    "    k_iterations = 1000\n",
    "    X_a = np.c_[np.ones((len(X), 1)), X] # On rajoute x0 = 1 pour chaque observations\n",
    "    n = len(X_a)\n",
    "    beta_path_bgd = []\n",
    "\n",
    "    beta_batch = np.random.randn(2,1)  # random initialization\n",
    "\n",
    "    for iteration in range(k_iterations):\n",
    "        gradients = 2/n * X_a.T.dot(X_a.dot(beta_batch) - y)\n",
    "        beta_batch = beta_batch - eta * gradients\n",
    "        beta_path_bgd.append(beta_batch)\n",
    "\n",
    "    return beta_path_bgd\n",
    "\n",
    "batch_gradient(X,y)[-1]"
   ]
  },
  {
   "cell_type": "markdown",
   "metadata": {},
   "source": [
    "#### Descente de gradient stochastique"
   ]
  },
  {
   "cell_type": "code",
   "execution_count": 9,
   "metadata": {},
   "outputs": [
    {
     "data": {
      "text/plain": [
       "array([[ 6.15945708],\n",
       "       [-4.92909127]])"
      ]
     },
     "execution_count": 9,
     "metadata": {},
     "output_type": "execute_result"
    }
   ],
   "source": [
    "def sgd(X, y): \n",
    "    np.random.seed(20)\n",
    "    X_a = np.c_[np.ones((len(X), 1)), X] # On rajoute x0 = 1 pour chaque observations\n",
    "    n = len(X_a)\n",
    "    n_epochs = 50\n",
    "    t0, t1 = 5, 50  # learning schedule hyperparameters\n",
    "    beta_path_sgd = []\n",
    "\n",
    "    def learning_schedule(t):\n",
    "        return t0 / (t + t1)\n",
    "\n",
    "    beta_sgd = np.random.randn(2,1)  # random initialization\n",
    "\n",
    "    for epoch in range(n_epochs):\n",
    "        for i in range(n):\n",
    "            random_index = np.random.randint(n)\n",
    "            xi = X_a[random_index:random_index+1]\n",
    "            yi = y[random_index:random_index+1]\n",
    "            gradients = 2 * xi.T.dot(xi.dot(beta_sgd) - yi)\n",
    "            eta = learning_schedule(epoch * n + i)\n",
    "            beta_sgd = beta_sgd - eta * gradients\n",
    "            beta_path_sgd.append(beta_sgd)\n",
    "\n",
    "    return beta_path_sgd\n",
    "\n",
    "sgd(X,y)[-1]"
   ]
  },
  {
   "attachments": {},
   "cell_type": "markdown",
   "metadata": {},
   "source": [
    "#### Mini Batch Gradient"
   ]
  },
  {
   "cell_type": "code",
   "execution_count": 10,
   "metadata": {},
   "outputs": [
    {
     "data": {
      "text/plain": [
       "array([[ 6.23793141],\n",
       "       [-4.92077187]])"
      ]
     },
     "execution_count": 10,
     "metadata": {},
     "output_type": "execute_result"
    }
   ],
   "source": [
    "def mini_batch_gradient(X,y):\n",
    "    np.random.seed(20)\n",
    "    X_a = np.c_[np.ones((len(X), 1)), X] # On rajoute x0 = 1 pour chaque observations\n",
    "    n = len(X_a)\n",
    "    beta_path_mgd = []\n",
    "\n",
    "    k_iterations = 50\n",
    "    minibatch_size = 20\n",
    "\n",
    "    beta = np.random.randn(2,1)  # random initialization\n",
    "\n",
    "    t0, t1 = 200, 1000\n",
    "    def learning_schedule(t):\n",
    "        return t0 / (t + t1)\n",
    "\n",
    "    t = 0\n",
    "    for epoch in range(k_iterations):\n",
    "        shuffled_indices = np.random.permutation(n)\n",
    "        X_a_shuffled = X_a[shuffled_indices]\n",
    "        y_shuffled = y[shuffled_indices]\n",
    "        for i in range(0, n, minibatch_size):\n",
    "            t += 1\n",
    "            xi = X_a_shuffled[i:i+minibatch_size]\n",
    "            yi = y_shuffled[i:i+minibatch_size]\n",
    "            gradients = 2/minibatch_size * xi.T.dot(xi.dot(beta) - yi)\n",
    "            eta = learning_schedule(t)\n",
    "            beta = beta - eta * gradients\n",
    "            beta_path_mgd.append(beta)\n",
    "            \n",
    "    return beta_path_mgd\n",
    "\n",
    "mini_batch_gradient(X,y)[-1]"
   ]
  },
  {
   "cell_type": "code",
   "execution_count": 19,
   "metadata": {},
   "outputs": [
    {
     "data": {
      "application/vnd.jupyter.widget-view+json": {
       "model_id": "37a9b23f6a5f49248faeabe9ba8363a0",
       "version_major": 2,
       "version_minor": 0
      },
      "text/plain": [
       "interactive(children=(FloatSlider(value=2.5, description='a', max=4.0, min=-4.0), FloatSlider(value=4.0, descr…"
      ]
     },
     "metadata": {},
     "output_type": "display_data"
    },
    {
     "data": {
      "text/plain": [
       "<function __main__.update_plot(a=2.5, b=4.0, k=200)>"
      ]
     },
     "execution_count": 19,
     "metadata": {},
     "output_type": "execute_result"
    }
   ],
   "source": [
    "def generate_data(a, b, num_points):\n",
    "    np.random.seed(20)\n",
    "    x = 2 * np.random.rand(num_points, 1,)\n",
    "    y = b + a* x + np.random.randn(num_points, 1)\n",
    "    return x, y\n",
    "\n",
    "def update_plot(a=2.5, b = 4.0, k = 200):\n",
    "    x, y = generate_data(a, b, num_points=200)\n",
    "    conv_points_gradient = batch_gradient(x,y)[:k] \n",
    "    conv_points_sgd = sgd(x,y)[:k] \n",
    "    conv_points_minibatch_gradient = mini_batch_gradient(x,y)[:k] \n",
    "    plt.figure(figsize=(15,5))\n",
    "\n",
    "    plt.subplot(121)\n",
    "    plt.plot(np.array(conv_points_gradient)[:,0], np.array(conv_points_gradient)[:,1], \"r-s\", linewidth=1, label=\"Batch\")\n",
    "    plt.plot(np.array(conv_points_sgd)[:,0], np.array(conv_points_sgd)[:,1], \"b-o\", linewidth=1, label=\"Stochastic\")\n",
    "    plt.plot(np.array(conv_points_minibatch_gradient)[:,0], np.array(conv_points_minibatch_gradient)[:,1], \"g-+\", linewidth=1, label=\"Mini Batch\")\n",
    "    plt.legend(loc=\"upper left\", fontsize=12)\n",
    "    plt.grid()\n",
    "    plt.xlabel(r\"b\", fontsize=20)\n",
    "    plt.ylabel(r\"a\", fontsize=20)\n",
    "\n",
    "    plt.subplot(122)\n",
    "    plt.xlim(-0.5, 2.5)\n",
    "    plt.ylim(-4, 11)\n",
    "    plt.grid()\n",
    "    plt.scatter(x,y)\n",
    "    x_line = np.linspace(-10, 10, 2)\n",
    "\n",
    "    y_line = a * x_line + b\n",
    "    y_gd = conv_points_gradient[k-1][0] + conv_points_gradient[k-1][1]*x_line\n",
    "    y_sgd = conv_points_sgd[k-1][0] + conv_points_sgd[k-1][1]*x_line\n",
    "    y_mgd = conv_points_minibatch_gradient[k-1][0] + conv_points_minibatch_gradient[k-1][1]*x_line\n",
    "    plt.plot(x_line, y_line, color='red')\n",
    "    plt.plot(x_line, y_sgd, color='red', linestyle='--')\n",
    "    plt.plot(x_line, y_sgd, color='blue', linestyle='--')\n",
    "\n",
    "    plt.show()\n",
    "    \n",
    "\n",
    "interact(update_plot, a=(-4.0, 4.0, 0.1), b=(-4.0, 4.0, 0.1), k=(1, 500, 1))"
   ]
  }
 ],
 "metadata": {
  "kernelspec": {
   "display_name": "test_vs",
   "language": "python",
   "name": "python3"
  },
  "language_info": {
   "codemirror_mode": {
    "name": "ipython",
    "version": 3
   },
   "file_extension": ".py",
   "mimetype": "text/x-python",
   "name": "python",
   "nbconvert_exporter": "python",
   "pygments_lexer": "ipython3",
   "version": "3.10.9"
  },
  "orig_nbformat": 4,
  "vscode": {
   "interpreter": {
    "hash": "cf93f583ea89c76621c7eb2a4dc25d98434677c0d7c10d31e95de5f1fc2bb254"
   }
  }
 },
 "nbformat": 4,
 "nbformat_minor": 2
}
